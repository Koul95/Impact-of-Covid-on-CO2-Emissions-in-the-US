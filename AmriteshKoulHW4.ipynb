{
 "cells": [
  {
   "cell_type": "markdown",
   "id": "2dc07856",
   "metadata": {},
   "source": [
    "# Q1."
   ]
  },
  {
   "cell_type": "code",
   "execution_count": 261,
   "id": "b9ce3e2b",
   "metadata": {},
   "outputs": [],
   "source": [
    "from datetime import datetime\n",
    "import sys"
   ]
  },
  {
   "cell_type": "code",
   "execution_count": 262,
   "id": "e54d04df",
   "metadata": {},
   "outputs": [],
   "source": [
    "class CellPhone:\n",
    "    \n",
    "    \"\"\"This class accepts general Cell Phone parameters like Color, model, storage, carrier that are ppassed to __init__ method\"\"\"\n",
    "    \n",
    "    def __init__(self,c,m,s,cr):\n",
    "        \n",
    "        self.__color=c\n",
    "        self.__model=m\n",
    "        self.__storage=s\n",
    "        self.__carrier=cr\n",
    "        \n",
    "    def get_color(self):\n",
    "        \n",
    "        \"\"\"Accessor Method\"\"\"\n",
    "        \n",
    "        return self.__color\n",
    "    \n",
    "    def get_model(self):\n",
    "        \n",
    "        \"\"\"Accessor Method\"\"\"\n",
    "        \n",
    "        return self.__model\n",
    "    \n",
    "    def get_storage(self):\n",
    "        \n",
    "        \"\"\"Accessor Method\"\"\"\n",
    "        \n",
    "        print(f'Storage is {self.__storage} GB')\n",
    "    \n",
    "    def get_carrier(self):\n",
    "        \n",
    "        \"\"\"Accessor Method\"\"\"\n",
    "        \n",
    "        return self.__carrier\n",
    "    \n",
    "    def set_color(self,c):\n",
    "\n",
    "        \"\"\"Mutator Method\"\"\"\n",
    "        \n",
    "        self.__color=c\n",
    "    \n",
    "    def set_model(self,m):\n",
    "        \n",
    "        \"\"\"Mutator Method\"\"\"\n",
    "        \n",
    "        self.__model=m\n",
    "    \n",
    "    def set_storage(self,s):\n",
    "        \n",
    "        \"\"\"Mutator Method\"\"\"\n",
    "        \n",
    "        self.__storage=s\n",
    "    \n",
    "    def set_carrier(self,cr):\n",
    "        \n",
    "        \"\"\"Mutator Method\"\"\"\n",
    "        \n",
    "        self.__carrier=cr\n",
    "        \n",
    "    def upgrade_storage(self,new_storage):\n",
    "        \n",
    "        \"\"\"This function is used to upgrade the current storage\n",
    "        Parameters: It accepts one parameter which is a numerical value\n",
    "        Return Value: There is no return value.\n",
    "        \"\"\"\n",
    "        \n",
    "        if new_storage > self.__storage:\n",
    "            \n",
    "            print(f'Old Storage is {self.__storage} GB')\n",
    "            self.__storage=new_storage\n",
    "            print(f'New Storage is {self.__storage} GB')\n",
    "            \n",
    "        else:\n",
    "            \n",
    "            print(\"You can't rollback memory!\")\n",
    "        \n",
    "    def connect_cloud(self):\n",
    "        \n",
    "        \"\"\"The method gets overridden by child class\"\"\"\n",
    "        pass\n",
    "    \n",
    "    def download_app(self,val):\n",
    "        \"\"\"The method gets overridden by child class\"\"\"\n",
    "        pass\n",
    "    \n",
    "    def get_time(self):\n",
    "        \n",
    "        \"\"\"This method is used to return the current time\n",
    "           Parameters: There are no parameters\n",
    "           Return Value: There is no return Value\"\"\"\n",
    "        \n",
    "        print(f'Time is: {datetime.now().strftime(\"%I:%M %p\")}')\n",
    "        \n",
    "    def get_date(self):\n",
    "        \n",
    "        \"\"\"This method is used to return the current date\n",
    "           Parameters: There are no parameters\n",
    "           Return Value: There is no return Value\"\"\"\n",
    "        \n",
    "        print(f'Date is: {datetime.now().strftime(\"%m/%d/%y\")}')\n",
    "        \n",
    "    def place_call(self,val):\n",
    "        \n",
    "        \"\"\"This method is used to place phone call\n",
    "           Parameters: It accepts one parameter as phone number\n",
    "           Return Value: There is no return Value\"\"\"\n",
    "        \n",
    "        print(f'Calling number {val}…')\n",
    "        \n",
    "    def send_sms(self,val1,val2):\n",
    "        \n",
    "        \"\"\"This method is used to send sms\n",
    "           Parameters: It accepts one parameter as phone number\n",
    "           Return Value: There is no return Value\"\"\"\n",
    "        \n",
    "        print(f\"Sending Message '{val1}' to number {val2}\")\n",
    "        \n",
    "        \n",
    "    def __str__(self):\n",
    "        \n",
    "        \"\"\"This method is used to print the object\"\"\"\n",
    "        \n",
    "        return f'This is a {str(self.__color)} {str(self.__model)} phone_name Phone\\nCapacity is {str(self.__storage)}GB. Carrier is {str(self.__carrier)}\\n'\n",
    "\n",
    "    \n",
    "        "
   ]
  },
  {
   "cell_type": "code",
   "execution_count": 263,
   "id": "23b0aea4",
   "metadata": {},
   "outputs": [],
   "source": [
    "class ApplePhone(CellPhone):\n",
    "    \n",
    "    \"\"\"This is a specialised class wi=hich inherits from CellPhone class. It acccepts parameters like\n",
    "       CellPhone class and has one additional parameter airdrop status that are passed th __init__ method\"\"\"\n",
    "    \n",
    "    def __init__(self,c,m,s,cr):\n",
    "        \n",
    "        super().__init__(c,m,s,cr)\n",
    "        self.__airdrop_status='Off'\n",
    "        \n",
    "        \n",
    "    def get_airdrop_status(self):\n",
    "        \n",
    "        \"\"\"Accessor Method\"\"\"\n",
    "        \n",
    "        return self.__airdrop_status\n",
    "    \n",
    "    def set_airdrop_status(self,status):\n",
    "        \n",
    "        \"\"\"Mutator Method\"\"\"\n",
    "        \n",
    "        self.__airdrop_status=status\n",
    "        \n",
    "    def upgrade_storage(self,new_storage):\n",
    "        \n",
    "        \"\"\"This function is used to upgrade the current storage\n",
    "        Parameters: It accepts one parameter which is a numerical value\n",
    "        Return Value: There is no return value.\n",
    "        The feature is blocked in ApplePhone\n",
    "        \"\"\"\n",
    "        \n",
    "        print('Updating storage is not allowed on Apple phones')\n",
    "        \n",
    "    def download_app(self,val):\n",
    "        \n",
    "        \"\"\"This function is used to print download app message\n",
    "        Parameters: It accepts one String parameter \n",
    "        Return Value: There is no return value.\n",
    "        \"\"\"\n",
    "        \n",
    "        print(f'Opening Apple Store to download {val} app...')\n",
    "        \n",
    "    def connect_cloud(self):\n",
    "        \n",
    "        \"\"\"This function is used to print connect cloud message\n",
    "        Parameters: It accepts one String parameter \n",
    "        Return Value: There is no return value.\n",
    "        \"\"\"\n",
    "        \n",
    "        print('Connecting to iCloud...')\n",
    "        \n",
    "    def launch_Siri(self):\n",
    "        \n",
    "        \"\"\"This function is used to print siri message\n",
    "        Parameters: It accepts one String parameter \n",
    "        Return Value: There is no return value.\n",
    "        \"\"\"\n",
    "        \n",
    "        print('Launching Siri...')\n",
    "        \n",
    "    def __str__(self):\n",
    "        \n",
    "        \"\"\"This method is used to print the object\"\"\"\n",
    "        \n",
    "        op = str(super().__str__())\n",
    "        op=op.replace('phone_name','Apple')\n",
    "        op=op+f'Airdrop Status is {self.__airdrop_status}'\n",
    "        return op"
   ]
  },
  {
   "cell_type": "code",
   "execution_count": 264,
   "id": "e7639029",
   "metadata": {},
   "outputs": [],
   "source": [
    "class AndroidPhone(CellPhone):\n",
    "    \n",
    "    \n",
    "    \n",
    "    \"\"\"This is a specialised class wi=hich inherits from CellPhone class. It acccepts parameters like\n",
    "        CellPhone class and has one additional parameter split screen mode that are passed to __init__ method\n",
    "    \"\"\"\n",
    "\n",
    "        \n",
    "    def __init__(self,c,m,s,cr):\n",
    "                \n",
    "        super().__init__(c,m,s,cr)\n",
    "        self.__split_screen_mode='Off'\n",
    "        \n",
    "    def get_split_screen_mode(self):\n",
    "        \n",
    "        \"\"\"Accessor Method\"\"\"\n",
    "        \n",
    "        return self.__split_screen_mode\n",
    "    \n",
    "    def set_split_screen_mode(self,status):\n",
    "        \n",
    "        \"\"\"Mutator Method\"\"\"\n",
    "        \n",
    "        self.__split_screen_mode=status\n",
    "        \n",
    "    def download_app(self,val):\n",
    "        \n",
    "        \"\"\"This function is used to print Google Play Store message\n",
    "        Parameters: It accepts one String parameter \n",
    "        Return Value: There is no return value.\n",
    "        \"\"\"\n",
    "        \n",
    "        print(f'Opening Google Play Store to download {val} app...')\n",
    "        \n",
    "    def connect_cloud(self):\n",
    "        \n",
    "        \"\"\"This function is used to print cloud connect message\n",
    "        Parameters: It accepts one String parameter \n",
    "        Return Value: There is no return value.\n",
    "        \"\"\"\n",
    "        \n",
    "        print('Connecting to gdrive...')\n",
    "\n",
    "    def launch_google_assistant(self):\n",
    "        \n",
    "        \"\"\"This function is used to print google assistant message\n",
    "        Parameters: It accepts one String parameter \n",
    "        Return Value: There is no return value.\n",
    "        \"\"\"\n",
    "        \n",
    "        print('Launching Google Assistant...')\n",
    "        \n",
    "    def __str__(self):\n",
    "        \n",
    "        \"\"\"This method is used to print the object\"\"\"\n",
    "        \n",
    "        op = str(super().__str__())\n",
    "        op=op.replace('phone_name','Android')\n",
    "        op=op+f'Split-Screen Mode is {self.__split_screen_mode}'\n",
    "        return op\n",
    "        \n",
    "    "
   ]
  },
  {
   "cell_type": "code",
   "execution_count": 265,
   "id": "18ce162c",
   "metadata": {},
   "outputs": [],
   "source": [
    "#Below are Sample Interaction"
   ]
  },
  {
   "cell_type": "code",
   "execution_count": 266,
   "id": "e6fedbde",
   "metadata": {},
   "outputs": [],
   "source": [
    "iPhone = ApplePhone('Black', '11 Pro', 64, 'Verizon')"
   ]
  },
  {
   "cell_type": "code",
   "execution_count": 267,
   "id": "ea201663",
   "metadata": {},
   "outputs": [],
   "source": [
    "iPhone.set_airdrop_status('On');"
   ]
  },
  {
   "cell_type": "code",
   "execution_count": 268,
   "id": "420d3703",
   "metadata": {},
   "outputs": [
    {
     "name": "stdout",
     "output_type": "stream",
     "text": [
      "This is a Black 11 Pro Apple Phone\n",
      "Capacity is 64GB. Carrier is Verizon\n",
      "Airdrop Status is On\n"
     ]
    }
   ],
   "source": [
    "print(iPhone)"
   ]
  },
  {
   "cell_type": "code",
   "execution_count": 269,
   "id": "3627b8ae",
   "metadata": {},
   "outputs": [
    {
     "name": "stdout",
     "output_type": "stream",
     "text": [
      "Storage is 64 GB\n"
     ]
    }
   ],
   "source": [
    "iPhone.get_storage()"
   ]
  },
  {
   "cell_type": "code",
   "execution_count": 270,
   "id": "19c61a63",
   "metadata": {},
   "outputs": [
    {
     "name": "stdout",
     "output_type": "stream",
     "text": [
      "Updating storage is not allowed on Apple phones\n"
     ]
    }
   ],
   "source": [
    "iPhone.upgrade_storage(128)"
   ]
  },
  {
   "cell_type": "code",
   "execution_count": 271,
   "id": "667e19a9",
   "metadata": {},
   "outputs": [
    {
     "name": "stdout",
     "output_type": "stream",
     "text": [
      "Connecting to iCloud...\n"
     ]
    }
   ],
   "source": [
    "iPhone.connect_cloud()"
   ]
  },
  {
   "cell_type": "code",
   "execution_count": 272,
   "id": "e9a09c9c",
   "metadata": {},
   "outputs": [
    {
     "name": "stdout",
     "output_type": "stream",
     "text": [
      "Opening Apple Store to download Starbucks app...\n"
     ]
    }
   ],
   "source": [
    "iPhone.download_app('Starbucks')"
   ]
  },
  {
   "cell_type": "code",
   "execution_count": 273,
   "id": "76da1461",
   "metadata": {},
   "outputs": [
    {
     "name": "stdout",
     "output_type": "stream",
     "text": [
      "Time is: 04:47 AM\n"
     ]
    }
   ],
   "source": [
    "iPhone.get_time()"
   ]
  },
  {
   "cell_type": "code",
   "execution_count": 274,
   "id": "38fd94ee",
   "metadata": {},
   "outputs": [
    {
     "name": "stdout",
     "output_type": "stream",
     "text": [
      "Date is: 11/23/21\n"
     ]
    }
   ],
   "source": [
    "iPhone.get_date()"
   ]
  },
  {
   "cell_type": "code",
   "execution_count": 275,
   "id": "692da45a",
   "metadata": {},
   "outputs": [
    {
     "name": "stdout",
     "output_type": "stream",
     "text": [
      "Calling number 425-123-4567…\n"
     ]
    }
   ],
   "source": [
    "iPhone.place_call('425-123-4567')"
   ]
  },
  {
   "cell_type": "code",
   "execution_count": 276,
   "id": "a4420237",
   "metadata": {},
   "outputs": [
    {
     "name": "stdout",
     "output_type": "stream",
     "text": [
      "Sending Message 'Hi There' to number 214-214-2144\n"
     ]
    }
   ],
   "source": [
    "iPhone.send_sms('Hi There', '214-214-2144')"
   ]
  },
  {
   "cell_type": "code",
   "execution_count": 277,
   "id": "9a19919f",
   "metadata": {},
   "outputs": [
    {
     "name": "stdout",
     "output_type": "stream",
     "text": [
      "Launching Siri...\n"
     ]
    }
   ],
   "source": [
    "iPhone.launch_Siri()"
   ]
  },
  {
   "cell_type": "code",
   "execution_count": 278,
   "id": "b1c673b0",
   "metadata": {},
   "outputs": [
    {
     "name": "stdout",
     "output_type": "stream",
     "text": [
      "AirDrop Status is:  On\n"
     ]
    }
   ],
   "source": [
    "print('AirDrop Status is: ', iPhone.get_airdrop_status())"
   ]
  },
  {
   "cell_type": "code",
   "execution_count": 279,
   "id": "7ef185d3",
   "metadata": {},
   "outputs": [],
   "source": [
    "aPhone = AndroidPhone('White', 'Note 10', 128, 'AT&T')"
   ]
  },
  {
   "cell_type": "code",
   "execution_count": 280,
   "id": "93ef63ce",
   "metadata": {},
   "outputs": [],
   "source": [
    "aPhone.set_split_screen_mode('On');"
   ]
  },
  {
   "cell_type": "code",
   "execution_count": 281,
   "id": "cab11b70",
   "metadata": {},
   "outputs": [
    {
     "name": "stdout",
     "output_type": "stream",
     "text": [
      "This is a White Note 10 Android Phone\n",
      "Capacity is 128GB. Carrier is AT&T\n",
      "Split-Screen Mode is On\n"
     ]
    }
   ],
   "source": [
    "print(aPhone)"
   ]
  },
  {
   "cell_type": "code",
   "execution_count": 282,
   "id": "4ce0b6d0",
   "metadata": {},
   "outputs": [
    {
     "name": "stdout",
     "output_type": "stream",
     "text": [
      "Storage is 128 GB\n"
     ]
    }
   ],
   "source": [
    "aPhone.get_storage()"
   ]
  },
  {
   "cell_type": "code",
   "execution_count": 283,
   "id": "8aa04d91",
   "metadata": {},
   "outputs": [
    {
     "name": "stdout",
     "output_type": "stream",
     "text": [
      "Old Storage is 128 GB\n",
      "New Storage is 256 GB\n"
     ]
    }
   ],
   "source": [
    "aPhone.upgrade_storage(256)"
   ]
  },
  {
   "cell_type": "code",
   "execution_count": 284,
   "id": "475fb2dd",
   "metadata": {},
   "outputs": [
    {
     "name": "stdout",
     "output_type": "stream",
     "text": [
      "You can't rollback memory!\n"
     ]
    }
   ],
   "source": [
    "aPhone.upgrade_storage(128)"
   ]
  },
  {
   "cell_type": "code",
   "execution_count": 285,
   "id": "9be6d5d4",
   "metadata": {},
   "outputs": [
    {
     "name": "stdout",
     "output_type": "stream",
     "text": [
      "Storage is 256 GB\n"
     ]
    }
   ],
   "source": [
    "aPhone.get_storage()"
   ]
  },
  {
   "cell_type": "code",
   "execution_count": 286,
   "id": "5f39c312",
   "metadata": {},
   "outputs": [
    {
     "name": "stdout",
     "output_type": "stream",
     "text": [
      "Connecting to gdrive...\n"
     ]
    }
   ],
   "source": [
    "aPhone.connect_cloud()"
   ]
  },
  {
   "cell_type": "code",
   "execution_count": 287,
   "id": "d424e463",
   "metadata": {},
   "outputs": [
    {
     "name": "stdout",
     "output_type": "stream",
     "text": [
      "Opening Google Play Store to download WhatsApp app...\n"
     ]
    }
   ],
   "source": [
    "aPhone.download_app('WhatsApp')"
   ]
  },
  {
   "cell_type": "code",
   "execution_count": 288,
   "id": "7c1677ba",
   "metadata": {},
   "outputs": [
    {
     "name": "stdout",
     "output_type": "stream",
     "text": [
      "Time is: 04:48 AM\n"
     ]
    }
   ],
   "source": [
    "aPhone.get_time()"
   ]
  },
  {
   "cell_type": "code",
   "execution_count": 289,
   "id": "4e4f06a6",
   "metadata": {},
   "outputs": [
    {
     "name": "stdout",
     "output_type": "stream",
     "text": [
      "Date is: 11/23/21\n"
     ]
    }
   ],
   "source": [
    "aPhone.get_date()"
   ]
  },
  {
   "cell_type": "code",
   "execution_count": 290,
   "id": "4070a4cf",
   "metadata": {},
   "outputs": [
    {
     "name": "stdout",
     "output_type": "stream",
     "text": [
      "Calling number 206-123-4567…\n"
     ]
    }
   ],
   "source": [
    "aPhone.place_call('206-123-4567')"
   ]
  },
  {
   "cell_type": "code",
   "execution_count": 291,
   "id": "5c3331f0",
   "metadata": {},
   "outputs": [
    {
     "name": "stdout",
     "output_type": "stream",
     "text": [
      "Sending Message 'Hi There' to number 469-123-4567\n"
     ]
    }
   ],
   "source": [
    "aPhone.send_sms('Hi There', '469-123-4567')"
   ]
  },
  {
   "cell_type": "code",
   "execution_count": 292,
   "id": "a2ca0fc1",
   "metadata": {},
   "outputs": [
    {
     "name": "stdout",
     "output_type": "stream",
     "text": [
      "Launching Google Assistant...\n"
     ]
    }
   ],
   "source": [
    "aPhone.launch_google_assistant()"
   ]
  },
  {
   "cell_type": "code",
   "execution_count": 293,
   "id": "7d34e36b",
   "metadata": {},
   "outputs": [
    {
     "name": "stdout",
     "output_type": "stream",
     "text": [
      "Split-Screen Mode is:  On\n"
     ]
    }
   ],
   "source": [
    "print('Split-Screen Mode is: ', aPhone.get_split_screen_mode())"
   ]
  },
  {
   "cell_type": "markdown",
   "id": "4cde95b6",
   "metadata": {},
   "source": [
    "# Q2."
   ]
  },
  {
   "cell_type": "code",
   "execution_count": 294,
   "id": "7b73c92f",
   "metadata": {},
   "outputs": [],
   "source": [
    "class Display:\n",
    "    \n",
    "    \"\"\"This class is used to display the result \"\"\"\n",
    "       \n",
    "    def display_result(self,v1,v2,val,operator):\n",
    "        \n",
    "        \"\"\"This function prints out the result.\n",
    "        \n",
    "           Parameters: It accepts four parameters i.e. the input numbers, operation and result\n",
    "           Return Value: There is no return value\"\"\"\n",
    "        \n",
    "        print(f'Result of {v1} {operator} {v2} is {val}')"
   ]
  },
  {
   "cell_type": "code",
   "execution_count": 295,
   "id": "c8453b6c",
   "metadata": {},
   "outputs": [],
   "source": [
    "class Operation:\n",
    "    \n",
    "    \"\"\"This Class is used to perform the Operations of Addition, Subtraction, Multiplication and Division\n",
    "       Parameters: It takes two numbers and an operator through __init__ metnod \"\"\"\n",
    "    \n",
    "    def __init__(self, num1, num2,operator):\n",
    "        self.__num1 = num1\n",
    "        self.__num2 = num2\n",
    "        self.__operator=operator\n",
    "        self.__disp       = Display()\n",
    "        \n",
    "    def set_num1(self,num1):\n",
    "        \n",
    "        \"\"\"Mutator Method\"\"\"\n",
    "        \n",
    "        self.__num1=num1\n",
    "        \n",
    "    def set_num2(self,num2):\n",
    "        \n",
    "        \"\"\"Mutator Method\"\"\"\n",
    "        \n",
    "        self.__num2=num2\n",
    "        \n",
    "    def set_operator(self,operator):\n",
    "        \n",
    "        \"\"\"Mutator Method\"\"\"\n",
    "        \n",
    "        self.__operator=operator\n",
    "    \n",
    "    def set_disp(self,d):\n",
    "        \n",
    "        \"\"\"Mutator Method\"\"\"\n",
    "        \n",
    "        self.__disp=d\n",
    "        \n",
    "    \n",
    "    \n",
    "    \n",
    "    \n",
    "    def get_num1(self):\n",
    "        \n",
    "        \"\"\"Accessor Method\"\"\"\n",
    "        \n",
    "        return self.__num1\n",
    "    \n",
    "    def get_num2(self):\n",
    "    \n",
    "        \"\"\"Accessor Method\"\"\"\n",
    "        \n",
    "        return self.__num2\n",
    "    \n",
    "    def get_operator(self):\n",
    "        \n",
    "        \"\"\"Accessor Method\"\"\"\n",
    "        \n",
    "        return self.__operator\n",
    "    \n",
    "    def get_disp(self):\n",
    "        \n",
    "        \"\"\"Accessor Method\"\"\"\n",
    "        \n",
    "        return self.__disp\n",
    "        \n",
    "        \n",
    "    \n",
    "    def addition(self):   \n",
    "        \"\"\"This method is used to perform Addition\n",
    "           Parameters: It takes two numbers\n",
    "           Return Value: Returns a method of Display Class\"\"\"\n",
    "        self.__disp.display_result(self.__num1,self.__num2,self.__num1+self.__num2,self.__operator)\n",
    "            \n",
    "    def subtraction(self):\n",
    "        \"\"\"This method is used to perform Subtraction\n",
    "           Parameters: It takes two numbers\n",
    "           Return Value: Returns a method of Display Class\"\"\"\n",
    "        \n",
    "        self.__disp.display_result(self.__num1,self.__num2,self.__num1-self.__num2,self.__operator)\n",
    "    \n",
    "    def multiplication(self):\n",
    "        \"\"\"This method is used to perform Multiplication\n",
    "           Parameters: It takes two numbers\n",
    "           Return Value: Returns a method of Display Class\"\"\"\n",
    "        self.__disp.display_result(self.__num1,self.__num2,self.__num1*self.__num2,self.__operator)  \n",
    "        \n",
    "    def division(self):\n",
    "        \"\"\"This method is used to perform Division\n",
    "           Parameters: It takes two numbers\n",
    "           Return Value: Returns a method of Display Class\"\"\"\n",
    "        self.__disp.display_result(self.__num1,self.__num2,self.__num1/self.__num2,self.__operator)"
   ]
  },
  {
   "cell_type": "code",
   "execution_count": 296,
   "id": "bbd0bb8b",
   "metadata": {},
   "outputs": [],
   "source": [
    "class Calculator:\n",
    "    \n",
    "    \"\"\"This Class is used to accept parameters through __init__ method from user and assign operations of Addition, Subtraction, Multiplication\n",
    "    and Division accordingly\n",
    "    Parameters: It takes three parameters  i.e. two numbers and an operator. \"\"\"\n",
    "        \n",
    "    def __init__(self, num1, num2, operator): \n",
    "        \n",
    "        self.__num1 = num1\n",
    "        self.__num2 = num2\n",
    "        self.__operator   = operator\n",
    "        self.__op      = Operation(self.__num1, self.__num2,self.__operator)\n",
    "        \n",
    "        \n",
    "    def set_num1(self,num1):\n",
    "        \n",
    "        \"\"\"Mutator Method\"\"\"\n",
    "        \n",
    "        self.__num1=num1\n",
    "        \n",
    "    def set_num2(self,num2):\n",
    "        \n",
    "        \"\"\"Mutator Method\"\"\"\n",
    "        \n",
    "        self.__num2=num2\n",
    "        \n",
    "    def set_operator(self,operator):\n",
    "        \n",
    "        \"\"\"Mutator Method\"\"\"\n",
    "        \n",
    "        self.__operator=operator\n",
    "    \n",
    "    def set_disp(self,d):\n",
    "        \n",
    "        \"\"\"Mutator Method\"\"\"\n",
    "        \n",
    "        self.__disp=d\n",
    "        \n",
    "    \n",
    "    \n",
    "    \n",
    "    \n",
    "    def get_num1(self):\n",
    "        \n",
    "        \"\"\"Accessor Method\"\"\"\n",
    "        \n",
    "        return self.__num1\n",
    "    \n",
    "    def get_num2(self):\n",
    "    \n",
    "        \"\"\"Accessor Method\"\"\"\n",
    "        \n",
    "        return self.__num2\n",
    "    \n",
    "    def get_operator(self):\n",
    "        \n",
    "        \"\"\"Accessor Method\"\"\"\n",
    "        \n",
    "        return self.__operator\n",
    "    \n",
    "    def get_disp(self):\n",
    "        \n",
    "        \"\"\"Accessor Method\"\"\"\n",
    "        \n",
    "        return self.__disp\n",
    "            \n",
    "    def solve(self):\n",
    "        \n",
    "        \"\"\"This method is used to call the methods from the Operation class based on used input operator \"\"\"\n",
    "        \n",
    "        if self.__operator   == '+':\n",
    "            self.__op.addition()\n",
    "\n",
    "        elif self.__operator == '-':\n",
    "            self.__op.subtraction()\n",
    "\n",
    "        elif self.__operator == '*':\n",
    "            self.__op.multiplication()\n",
    "\n",
    "        elif self.__operator == '/':\n",
    "            self.__op.division()\n",
    "        else:\n",
    "            print(\"Invalid Input!\")\n",
    "            sys.exit(0)\n",
    "            "
   ]
  },
  {
   "cell_type": "code",
   "execution_count": 297,
   "id": "fd77f4f2",
   "metadata": {},
   "outputs": [],
   "source": [
    "#Below are sample Interactions"
   ]
  },
  {
   "cell_type": "code",
   "execution_count": 298,
   "id": "f34ee58c",
   "metadata": {},
   "outputs": [
    {
     "name": "stdout",
     "output_type": "stream",
     "text": [
      "Result of 500 + 10 is 510\n"
     ]
    }
   ],
   "source": [
    "a = Calculator(500,10,'+')      #Addition\n",
    "a.solve()"
   ]
  },
  {
   "cell_type": "code",
   "execution_count": 299,
   "id": "d8cdc040",
   "metadata": {},
   "outputs": [
    {
     "name": "stdout",
     "output_type": "stream",
     "text": [
      "Result of 500 - 10 is 490\n"
     ]
    }
   ],
   "source": [
    "a = Calculator(500,10,'-')     #Subtraction\n",
    "a.solve()"
   ]
  },
  {
   "cell_type": "code",
   "execution_count": 300,
   "id": "b3ea0754",
   "metadata": {},
   "outputs": [
    {
     "name": "stdout",
     "output_type": "stream",
     "text": [
      "Result of 500 / 10 is 50.0\n"
     ]
    }
   ],
   "source": [
    "a = Calculator(500,10,'/')     #Division\n",
    "a.solve()"
   ]
  },
  {
   "cell_type": "code",
   "execution_count": 301,
   "id": "325a7418",
   "metadata": {},
   "outputs": [
    {
     "name": "stdout",
     "output_type": "stream",
     "text": [
      "Result of 500 * 10 is 5000\n"
     ]
    }
   ],
   "source": [
    "a = Calculator(500,10,'*')     #Multiplication\n",
    "a.solve()"
   ]
  },
  {
   "cell_type": "markdown",
   "id": "80989d36",
   "metadata": {},
   "source": [
    "# Q3."
   ]
  },
  {
   "cell_type": "code",
   "execution_count": 302,
   "id": "3a9a9c7a",
   "metadata": {},
   "outputs": [],
   "source": [
    "import sys"
   ]
  },
  {
   "cell_type": "code",
   "execution_count": 303,
   "id": "64fabdb6",
   "metadata": {},
   "outputs": [],
   "source": [
    "class Building:\n",
    "    \n",
    "    \"\"\"The Building Class stores information about total_building_floor and current_elevator_floor_number.\n",
    "       Parameters: It takes two input int parameters total_floor and elevator_floor using __init__ method\"\"\"\n",
    "\n",
    "    \n",
    "    def __init__(self,total_floor,elevator_floor):\n",
    "        \n",
    "        if total_floor < 0 or elevator_floor<0 or elevator_floor>total_floor:\n",
    "            \n",
    "            print('Invalid Parameter passed!! Try Again')\n",
    "            sys.exit(0)\n",
    "        \n",
    "        else:\n",
    "            \n",
    "            self.__total_floor=total_floor\n",
    "            self.__elevator_floor=elevator_floor\n",
    "    \n",
    "    def get_total_floor(self):\n",
    "        \n",
    "        \"\"\"Accessor Method\"\"\"\n",
    "        \n",
    "        return self.__total_floor\n",
    "    \n",
    "    def get_elevator_floor(self):\n",
    "        \n",
    "        \"\"\"Accessor Method\"\"\"\n",
    "        \n",
    "        return self.__elevator_floor\n",
    "    \n",
    "    def set_total_floor(self, total_floor):\n",
    "        \n",
    "        \"\"\"Mutator Method\"\"\"\n",
    "        \n",
    "        self.__total_floor=total_floor\n",
    "        \n",
    "    def set_elevator_floor(self,elevator_floor):\n",
    "        \n",
    "        \"\"\"Mutator Method\"\"\"\n",
    "        \n",
    "        self.__elevator_floor=elevator_floor\n",
    "        \n",
    "    def increment_elevator_floor(self):\n",
    "        \n",
    "        \"\"\"This method is used to increment the current elevator floor\n",
    "           Parameter: It accepts no parameter value\n",
    "           Return Value: It returns no value\n",
    "           \"\"\"\n",
    "        \n",
    "        self.__elevator_floor+=1\n",
    "        \n",
    "    def decrement_elevator_floor(self):\n",
    "        \n",
    "        \"\"\"This method is used to decrement the current elevator floor\n",
    "           Parameter: It accepts no parameter value\n",
    "           Return Value: It returns no value\"\"\"\n",
    "        \n",
    "        self.__elevator_floor-=1     \n",
    "        "
   ]
  },
  {
   "cell_type": "code",
   "execution_count": 304,
   "id": "b199f3f8",
   "metadata": {},
   "outputs": [],
   "source": [
    "class Passenger:\n",
    "    \n",
    "    \"\"\"The Passenger class stores information about current passenger floor and destination floor\n",
    "       Parameters: It takes two input int parameters current_floor and destination_floor\"\"\"\n",
    "    \n",
    "    def __init__(self,current_floor,destination_floor):\n",
    "        \n",
    "        if current_floor<0 or destination_floor<0:\n",
    "            print('Invalid Parameter passed!!')\n",
    "            sys.exit(0)\n",
    "            \n",
    "        else:\n",
    "            self.__current_floor=current_floor\n",
    "            self.__destination_floor=destination_floor\n",
    "        \n",
    "    def get_current_floor(self):\n",
    "        \n",
    "        \"\"\"Accessor Method\"\"\"\n",
    "        \n",
    "        return self.__current_floor\n",
    "    \n",
    "    def get_destination_floor(self):\n",
    "        \n",
    "        \"\"\"Accessor Method\"\"\"\n",
    "        \n",
    "        return self.__destination_floor\n",
    "    \n",
    "    def set_current_floor(self,current_floor):\n",
    "        \n",
    "        \"\"\"Mutator Method\"\"\"\n",
    "        \n",
    "        self.__current_floor=current_floor\n",
    "        \n",
    "    def set_destination_floor(self,destination_floor):\n",
    "        \n",
    "        \"\"\"Mutator Method\"\"\"\n",
    "        \n",
    "        self.__destination_floor=destination_floor"
   ]
  },
  {
   "cell_type": "code",
   "execution_count": 305,
   "id": "d4a1b706",
   "metadata": {},
   "outputs": [],
   "source": [
    "class Elevator:\n",
    "    \n",
    "    \"\"\"The Elevator Class consists of elevator functioning methods\n",
    "       Parameters: It takes two input parameters that are objects of Building and Passenger Classes using __init__ menthod\"\"\"\n",
    "\n",
    "    \n",
    "    def __init__(self,p,b):\n",
    "        \n",
    "        self.__pass=p\n",
    "        self.__build=b\n",
    "        \n",
    "    def get_pass(self):\n",
    "    \n",
    "        \"\"\"Accessor Method\"\"\"\n",
    "        \n",
    "        return self.__pass\n",
    "    \n",
    "    def get_build(self):\n",
    "        \n",
    "        \"\"\"Accessor Method\"\"\"\n",
    "        \n",
    "        return self.__build\n",
    "    \n",
    "    def set_pass(self,p):\n",
    "        \n",
    "        \"\"\"Mutator Method\"\"\"\n",
    "        \n",
    "        self.__pass=p\n",
    "        \n",
    "    def set_build(self,b):\n",
    "        \n",
    "        \"\"\"Mutator Method\"\"\"\n",
    "        \n",
    "        self.__build=b\n",
    "        \n",
    "    \n",
    "    def enter_elevator(self):\n",
    "        \n",
    "        \"\"\" The method is bringing elevator from its current floor to passenger current floor\n",
    "            Parameter: It accepts no parameter\n",
    "            Return Value: There is no return value\"\"\"\n",
    "        \n",
    "        if self.__build.get_elevator_floor() == self.__pass.get_current_floor():\n",
    "            \n",
    "            print(f'Current Floor: {self.__build.get_elevator_floor()}. Please Enter.....')\n",
    "            \n",
    "        elif self.__build.get_elevator_floor() > self.__pass.get_current_floor():\n",
    "\n",
    "            while self.__build.get_elevator_floor() != self.__pass.get_current_floor():\n",
    "                \n",
    "                print(f'Current Elevator Floor: {self.__build.get_elevator_floor()}')\n",
    "                \n",
    "                self.__build.decrement_elevator_floor()\n",
    "                \n",
    "            print(f'Current Elevator Floor: {self.__build.get_elevator_floor()}\\nPlease Enter.....')\n",
    "\n",
    "        elif self.__build.get_elevator_floor() < self.__pass.get_current_floor():\n",
    "\n",
    "            while self.__build.get_elevator_floor() != self.__pass.get_current_floor():\n",
    "                \n",
    "                print(f'Current Elevator Floor: {self.__build.get_elevator_floor()}')\n",
    "                \n",
    "                self.__build.increment_elevator_floor()\n",
    "                \n",
    "            print(f'Current Elevator Floor: {self.__build.get_elevator_floor()}\\nPlease Enter.....')\n",
    "            \n",
    "            \n",
    "        \n",
    "        \n",
    "        \n",
    "    def leave_elevator(self):\n",
    "        \n",
    "        \"\"\" The method is take elevator from passenger current floor to passenger destination floor\n",
    "            Parameter: It accepts no parameter\n",
    "            Return Value: There is no return value\"\"\"\n",
    "        \n",
    "        if self.__build.get_elevator_floor() == self.__pass.get_destination_floor():\n",
    "            \n",
    "            print(f'Current Floor: {self.__build.get_elevator_floor()}.\\nYou have reached your floor.....')\n",
    "            \n",
    "        elif self.__build.get_elevator_floor() > self.__pass.get_destination_floor():\n",
    "\n",
    "            while self.__build.get_elevator_floor() != self.__pass.get_destination_floor():\n",
    "                \n",
    "                print(f'Current Elevator Floor: {self.__build.get_elevator_floor()}')\n",
    "                \n",
    "                self.__build.decrement_elevator_floor()\n",
    "                \n",
    "            print(f'Current Elevator Floor: {self.__build.get_elevator_floor()}.\\nYou have reached your floor.....')\n",
    "\n",
    "        elif self.__build.get_elevator_floor() < self.__pass.get_destination_floor():\n",
    "\n",
    "            while self.__build.get_elevator_floor() != self.__pass.get_destination_floor():\n",
    "                \n",
    "                print(f'Current Elevator Floor: {self.__build.get_elevator_floor()}')\n",
    "                \n",
    "                self.__build.increment_elevator_floor()\n",
    "                \n",
    "            print(f'Current Elevator Floor: {self.__build.get_elevator_floor()}\\nYou have reached your floor.....')\n",
    "    \n",
    "    \n",
    "    def operate(self):\n",
    "        \n",
    "        \"\"\" The method is used to perform the movement of elevator\n",
    "            Parameter: It accepts no parameter\n",
    "            Return Value: There is no return value\"\"\"\n",
    "        \n",
    "        if (self.__pass.get_destination_floor()>self.__build.get_total_floor()) or (self.__pass.get_current_floor()>self.__build.get_total_floor()):\n",
    "            \n",
    "            print('Invlid Passenger Floors selected!!')\n",
    "            sys.exit(0)\n",
    "        \n",
    "        self.enter_elevator()\n",
    "        \n",
    "        self.leave_elevator()"
   ]
  },
  {
   "cell_type": "code",
   "execution_count": 306,
   "id": "2ba26700",
   "metadata": {},
   "outputs": [],
   "source": [
    "bldg1=Building(10,10)"
   ]
  },
  {
   "cell_type": "code",
   "execution_count": 307,
   "id": "316f3a07",
   "metadata": {},
   "outputs": [],
   "source": [
    "pas1=Passenger(6,10)"
   ]
  },
  {
   "cell_type": "code",
   "execution_count": 308,
   "id": "c70d0e5e",
   "metadata": {},
   "outputs": [],
   "source": [
    "e=Elevator(pas1,bldg1)"
   ]
  },
  {
   "cell_type": "code",
   "execution_count": 309,
   "id": "3817935a",
   "metadata": {},
   "outputs": [
    {
     "name": "stdout",
     "output_type": "stream",
     "text": [
      "Current Elevator Floor: 10\n",
      "Current Elevator Floor: 9\n",
      "Current Elevator Floor: 8\n",
      "Current Elevator Floor: 7\n",
      "Current Elevator Floor: 6\n",
      "Please Enter.....\n",
      "Current Elevator Floor: 6\n",
      "Current Elevator Floor: 7\n",
      "Current Elevator Floor: 8\n",
      "Current Elevator Floor: 9\n",
      "Current Elevator Floor: 10\n",
      "You have reached your floor.....\n"
     ]
    }
   ],
   "source": [
    "e.operate()"
   ]
  },
  {
   "cell_type": "code",
   "execution_count": null,
   "id": "952d202a",
   "metadata": {},
   "outputs": [],
   "source": []
  }
 ],
 "metadata": {
  "kernelspec": {
   "display_name": "Python 3",
   "language": "python",
   "name": "python3"
  },
  "language_info": {
   "codemirror_mode": {
    "name": "ipython",
    "version": 3
   },
   "file_extension": ".py",
   "mimetype": "text/x-python",
   "name": "python",
   "nbconvert_exporter": "python",
   "pygments_lexer": "ipython3",
   "version": "3.8.8"
  }
 },
 "nbformat": 4,
 "nbformat_minor": 5
}
